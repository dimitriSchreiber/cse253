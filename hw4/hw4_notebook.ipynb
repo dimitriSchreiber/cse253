{
 "cells": [
  {
   "cell_type": "code",
   "execution_count": 1,
   "metadata": {},
   "outputs": [],
   "source": [
    "import torch\n",
    "import torch.nn as nn\n",
    "import torch.autograd as autograd\n",
    "import torch.nn.functional as F\n",
    "import torch.optim as optim\n",
    "\n",
    "import os\n",
    "import numpy as np\n",
    "import matplotlib as plt\n",
    "import dataloader"
   ]
  },
  {
   "cell_type": "code",
   "execution_count": 6,
   "metadata": {},
   "outputs": [
    {
     "name": "stdout",
     "output_type": "stream",
     "text": [
      "899\n",
      "225\n",
      "[   0    1    2 ... 1121 1122 1123]\n",
      "[ 752  893 1050 ...  835  559  684]\n",
      "899\n",
      "225\n",
      "(401530, 128)\n",
      "(99940, 128)\n"
     ]
    }
   ],
   "source": [
    "file = \"./data/input.txt\"\n",
    "data, train_data, validation_data, onehot_train, onehot_validation = dataloader.dataloader(file, 0.8)\n",
    "print(onehot_train.shape)\n",
    "print(onehot_validation.shape)"
   ]
  },
  {
   "cell_type": "markdown",
   "metadata": {},
   "source": [
    "# Pytorch LSTM notes:\n",
    "\n",
    "All inputs must be a 3D tensor: (sequence, mini-batch index, input element index)\n",
    "\n",
    "# Pytorch LSTM example: \n",
    "http://pytorch.org/tutorials/beginner/nlp/sequence_models_tutorial.html"
   ]
  },
  {
   "cell_type": "code",
   "execution_count": null,
   "metadata": {},
   "outputs": [],
   "source": [
    "torch.manual_seed(1)"
   ]
  }
 ],
 "metadata": {
  "kernelspec": {
   "display_name": "Python 3",
   "language": "python",
   "name": "python3"
  },
  "language_info": {
   "codemirror_mode": {
    "name": "ipython",
    "version": 3
   },
   "file_extension": ".py",
   "mimetype": "text/x-python",
   "name": "python",
   "nbconvert_exporter": "python",
   "pygments_lexer": "ipython3",
   "version": "3.5.2"
  }
 },
 "nbformat": 4,
 "nbformat_minor": 2
}
