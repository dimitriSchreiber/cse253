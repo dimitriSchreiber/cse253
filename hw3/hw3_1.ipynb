{
 "cells": [
  {
   "cell_type": "markdown",
   "metadata": {},
   "source": [
    "# Imports"
   ]
  },
  {
   "cell_type": "code",
   "execution_count": 1,
   "metadata": {},
   "outputs": [],
   "source": [
    "import torch\n",
    "import torchvision\n",
    "import torchvision.transforms as transforms\n",
    "from torch.utils.data.sampler import SubsetRandomSampler\n",
    "import matplotlib.pyplot as plt\n",
    "import random\n",
    "import numpy as np\n",
    "from tqdm import tqdm\n",
    "import torch.backends.cudnn as cudnn\n",
    "from torch.autograd import Variable\n",
    "import torch.nn as nn\n",
    "import torch.nn.functional as F\n",
    "\n",
    "\n",
    "%matplotlib inline"
   ]
  },
  {
   "cell_type": "markdown",
   "metadata": {},
   "source": [
    "# Utility functions\n",
    "\n",
    "from pytorch tutorial"
   ]
  },
  {
   "cell_type": "code",
   "execution_count": 2,
   "metadata": {},
   "outputs": [],
   "source": [
    "def imshow(img):\n",
    "    img = img / 2 + 0.5     # unnormalize\n",
    "    npimg = img.numpy()\n",
    "    plt.imshow(np.transpose(npimg, (1, 2, 0)))\n",
    "    \n",
    "classes = ('plane', 'car', 'bird', 'cat',\n",
    "           'deer', 'dog', 'frog', 'horse', 'ship', 'truck')"
   ]
  },
  {
   "cell_type": "markdown",
   "metadata": {},
   "source": [
    "# Import data"
   ]
  },
  {
   "cell_type": "code",
   "execution_count": 3,
   "metadata": {},
   "outputs": [
    {
     "name": "stdout",
     "output_type": "stream",
     "text": [
      "Files already downloaded and verified\n",
      "Files already downloaded and verified\n",
      "Files already downloaded and verified\n",
      "Training set size is 50000\n",
      "Testing set size is 10000\n",
      "frog\n"
     ]
    }
   ],
   "source": [
    "train_transforms = transforms.Compose(\n",
    "    [transforms.RandomHorizontalFlip(),\n",
    "     transforms.RandomCrop(32, padding=4),\n",
    "     transforms.ToTensor(),\n",
    "     transforms.Normalize((0.5, 0.5, 0.5), (0.5, 0.5, 0.5))]) #normalize from tutorial\n",
    "\n",
    "val_test_transforms = transforms.Compose(\n",
    "    [transforms.ToTensor(),\n",
    "     transforms.Normalize((0.5, 0.5, 0.5), (0.5, 0.5, 0.5))]) #normalize from tutorial\n",
    "\n",
    "trainset = torchvision.datasets.CIFAR10(root='./data', train=True,\n",
    "                                        download=True, transform=train_transforms)\n",
    "\n",
    "valset = torchvision.datasets.CIFAR10(root='./data', train=True,\n",
    "                                        download=True, transform=val_test_transforms)\n",
    "\n",
    "testset = torchvision.datasets.CIFAR10(root='./data', train=False,\n",
    "                                        download=True, transform=val_test_transforms)\n",
    "\n",
    "baseset_size = trainset.__len__()\n",
    "testset_size = testset.__len__()\n",
    "\n",
    "print(\"Training set size is {}\".format(baseset_size))\n",
    "print(\"Testing set size is {}\".format(testset_size))\n",
    "\n",
    "item = trainset.__getitem__(0)\n",
    "print(classes[item[1]])\n",
    "#imshow(item[0])"
   ]
  },
  {
   "cell_type": "markdown",
   "metadata": {},
   "source": [
    "# Constants\n",
    "\n",
    "training / testing constants \n",
    "\n",
    "\n",
    "performs train/val split\n",
    "\n",
    "\n",
    "data batcher"
   ]
  },
  {
   "cell_type": "code",
   "execution_count": 11,
   "metadata": {},
   "outputs": [
    {
     "name": "stdout",
     "output_type": "stream",
     "text": [
      "50000\n",
      "Training set is 35000 long\n",
      "Validation set is 15000 long\n"
     ]
    }
   ],
   "source": [
    "train_percent = 0.7\n",
    "batch_size = 128\n",
    "batch_size_predict = 256\n",
    "num_workers = 10\n",
    "num_classes = 10\n",
    "pin_memory = True\n",
    "\n",
    "num_epochs = 60\n",
    "learning_rate = 0.001\n",
    "optomizers = ('SGD', 'Adam')\n",
    "myOptomizer = optomizers[1]\n",
    "networks = ('exampleNet', 'FC2_2', 'VGGshallow', 'VGGshallow_1FC', 'VGGshallow_3FC', 'VGGshallow_3FC_deep')\n",
    "currentNetwork = networks[0]\n",
    "initializer = ('random', 'Xavier')\n",
    "initialization = initializer[1]\n",
    "batchNormalization = True\n",
    "\n",
    "useGPU = True\n",
    "if useGPU:\n",
    "    dtype = torch.cuda.FloatTensor\n",
    "    dtype2 = torch.cuda.LongTensor\n",
    "else:\n",
    "    dtype = torch.FloatTensor\n",
    "    dtype2 = torch.LongTensor\n",
    "    \n",
    "#torch.cudnn.benchmark = True\n",
    "\n",
    "#-----------------------------------------------------------------\n",
    "#data batching\n",
    "#-----------------------------------------------------------------\n",
    "\n",
    "\n",
    "train_num = int(train_percent*baseset_size)\n",
    "val_num = int(train_percent*(1-baseset_size))\n",
    "\n",
    "index = list(range(baseset_size))\n",
    "random.shuffle(index)\n",
    "\n",
    "train_ind = index[:train_num]\n",
    "val_ind = index[train_num:]\n",
    "\n",
    "print(len(index))\n",
    "\n",
    "print(\"Training set is {} long\".format(len(train_ind)))\n",
    "print(\"Validation set is {} long\".format(len(val_ind)))\n",
    "\n",
    "train_sampler = SubsetRandomSampler(train_ind)\n",
    "val_sampler = SubsetRandomSampler(val_ind)\n",
    "\n",
    "train_loader = torch.utils.data.DataLoader(trainset, \n",
    "                batch_size=batch_size, sampler=train_sampler, \n",
    "                num_workers=num_workers, pin_memory=pin_memory, drop_last = True)\n",
    "\n",
    "val_loader = torch.utils.data.DataLoader(valset, \n",
    "                batch_size=batch_size_predict, sampler=val_sampler, \n",
    "                num_workers=num_workers, pin_memory=pin_memory, drop_last = True)\n",
    "\n",
    "test_loader = torch.utils.data.DataLoader(testset, batch_size=batch_size_predict,\n",
    "                                         shuffle=False, num_workers=2, drop_last = True)\n"
   ]
  },
  {
   "cell_type": "markdown",
   "metadata": {},
   "source": [
    "print(batch_size)\n",
    "dataiter = iter(test_loader)\n",
    "print(dataiter.next()[0])"
   ]
  },
  {
   "cell_type": "markdown",
   "metadata": {},
   "source": [
    "# Networks\n",
    "\n",
    "Net_tutorial is from the pytorch tutorial, it doesn't do very well."
   ]
  },
  {
   "cell_type": "code",
   "execution_count": 12,
   "metadata": {},
   "outputs": [
    {
     "name": "stdout",
     "output_type": "stream",
     "text": [
      "exampleNet\n"
     ]
    }
   ],
   "source": [
    "#basenet from pytorch tutorial\n",
    "class Net_tutorial(nn.Module):\n",
    "    def __init__(self, initialization):\n",
    "        super(Net_tutorial, self).__init__()\n",
    "        self.conv1 = nn.Conv2d(3, 6, 5)\n",
    "        self.conv1_bn = nn.BatchNorm2d(6)\n",
    "        self.pool = nn.MaxPool2d(2, 2)\n",
    "        self.conv2 = nn.Conv2d(6, 16, 5)\n",
    "        self.conv2_bn = nn.BatchNorm2d(16)\n",
    "        self.fc1 = nn.Linear(16 * 5 * 5, 120)\n",
    "        self.fc1_bn = nn.BatchNorm1d(120)\n",
    "        self.fc2 = nn.Linear(120, 84)\n",
    "        self.fc2_bn = nn.BatchNorm1d(84)\n",
    "        self.fc3 = nn.Linear(84, 10)\n",
    "        \n",
    "        if initialization == 'Xavier':\n",
    "            nn.init.xavier_uniform(self.conv1.weight)\n",
    "            nn.init.xavier_uniform(self.conv2.weight)\n",
    "\n",
    "\n",
    "    def forward(self, x):\n",
    "        x = self.pool(F.relu(self.conv1_bn(self.conv1(x))))\n",
    "        x = self.pool(F.relu(self.conv2_bn(self.conv2(x))))\n",
    "        x = x.view(-1, 16 * 5 * 5)\n",
    "        x = F.relu(self.fc1_bn(self.fc1(x)))\n",
    "        x = F.relu(self.fc2_bn(self.fc2(x)))\n",
    "        x = self.fc3(x)\n",
    "        return x\n",
    "\n",
    "#deeper basenet\n",
    "class FC2_2(nn.Module):\n",
    "    def __init__(self, initialization):\n",
    "        super(FC2_2, self).__init__()\n",
    "        self.conv1 = nn.Conv2d(3, 6, 3, 1)\n",
    "        self.conv1_bn = nn.BatchNorm2d(6)\n",
    "        self.conv2 = nn.Conv2d(6, 6, 3, 1)\n",
    "        self.conv2_bn = nn.BatchNorm2d(6)\n",
    "        self.pool = nn.MaxPool2d(2, 2)\n",
    "        self.conv3 = nn.Conv2d(6, 16, 3, 1)\n",
    "        self.conv3_bn = nn.BatchNorm2d(16)\n",
    "        self.conv4 = nn.Conv2d(16, 16, 3, 1)\n",
    "        self.conv4_bn = nn.BatchNorm2d(16)\n",
    "        self.fc1 = nn.Linear(16 * 5 * 5, 120)\n",
    "        self.fc1_bn = nn.BatchNorm1d(120)\n",
    "        self.fc2 = nn.Linear(120, 84)\n",
    "        self.fc2_bn = nn.BatchNorm1d(84)\n",
    "        self.fc3 = nn.Linear(84, 10)\n",
    "        \n",
    "        if initialization == 'Xavier':\n",
    "            nn.init.xavier_uniform(self.conv1.weight)\n",
    "            nn.init.xavier_uniform(self.conv2.weight)\n",
    "\n",
    "\n",
    "    def forward(self, x):\n",
    "        x = (F.relu(self.conv1_bn(self.conv1(x))))\n",
    "        x = self.pool(F.relu(self.conv2_bn(self.conv2(x))))\n",
    "        x = (F.relu(self.conv3_bn(self.conv3(x))))\n",
    "        x = self.pool(F.relu(self.conv4_bn(self.conv4(x))))\n",
    "        x = x.view(x.size(0), -1)\n",
    "        x = F.relu(self.fc1_bn(self.fc1(x)))\n",
    "        x = F.relu(self.fc2_bn(self.fc2(x)))\n",
    "        x = self.fc3(x)\n",
    "        return x\n",
    "    \n",
    "#vgg style net using 3x3 convs and 2x2 max pools    \n",
    "class VGGshallow(nn.Module):\n",
    "    def __init__(self):\n",
    "        super(VGGshallow, self).__init__()\n",
    "        self.architecture = [64, 64, 'P', 128, 128, 'P', 256, 256, 'P', 512, 512, 'P', 512, 512, 'P']\n",
    "        self.layers = []\n",
    "        \n",
    "        input_channels = 3\n",
    "        for layer in self.architecture:\n",
    "            output_channels = layer\n",
    "            if layer == 'P':\n",
    "                self.layers.append(nn.MaxPool2d(2,2))\n",
    "                \n",
    "            else:\n",
    "                self.layers.append(nn.Conv2d(input_channels, output_channels, 3, 1, 1))\n",
    "                self.layers.append(nn.BatchNorm2d(output_channels))\n",
    "                self.layers.append(nn.ReLU(inplace=True))    \n",
    "                input_channels = output_channels\n",
    "        \n",
    "        self.conv_layers = nn.Sequential(*self.layers)\n",
    "        self.fc1 = nn.Linear(512, 512)\n",
    "        self.fc2 = nn.Linear(512, 10)\n",
    "        \n",
    "        #if initialization == 'Xavier':\n",
    "        #    nn.init.xavier_uniform(self.conv1.weight)\n",
    "        #    nn.init.xavier_uniform(self.conv2.weight)\n",
    "\n",
    "\n",
    "    def forward(self, x):\n",
    "        x = self.conv_layers(x)\n",
    "        x = x.view(x.size(0), -1)\n",
    "        x = self.fc1(x)\n",
    "        x = self.fc2(x)\n",
    "        return x\n",
    "class VGGshallow_1FC(nn.Module):\n",
    "    def __init__(self):\n",
    "        super(VGGshallow_1FC, self).__init__()\n",
    "        self.architecture = [64, 64, 'P', 128, 128, 'P', 256, 256, 'P', 512, 512, 'P', 512, 512, 'P']\n",
    "        self.layers = []\n",
    "        \n",
    "        input_channels = 3\n",
    "        for layer in self.architecture:\n",
    "            output_channels = layer\n",
    "            if layer == 'P':\n",
    "                self.layers.append(nn.MaxPool2d(2,2))\n",
    "                \n",
    "            else:\n",
    "                self.layers.append(nn.Conv2d(input_channels, output_channels, 3, 1, 1))\n",
    "                self.layers.append(nn.BatchNorm2d(output_channels))\n",
    "                self.layers.append(nn.ReLU(inplace=True))    \n",
    "                input_channels = output_channels\n",
    "        \n",
    "        self.conv_layers = nn.Sequential(*self.layers)\n",
    "        self.fc2 = nn.Linear(512, 10)\n",
    "        \n",
    "        #if initialization == 'Xavier':\n",
    "        #    nn.init.xavier_uniform(self.conv1.weight)\n",
    "        #    nn.init.xavier_uniform(self.conv2.weight)\n",
    "\n",
    "\n",
    "    def forward(self, x):\n",
    "        x = self.conv_layers(x)\n",
    "        x = x.view(x.size(0), -1)\n",
    "        x = self.fc2(x)\n",
    "        return x\n",
    "    \n",
    "class VGGshallow_3FC(nn.Module):\n",
    "    def __init__(self):\n",
    "        super(VGGshallow_3FC, self).__init__()\n",
    "        self.architecture = [64, 64, 'P', 128, 128, 'P', 256, 256, 'P', 512, 512, 'P', 512, 512, 'P']\n",
    "        self.layers = []\n",
    "        \n",
    "        input_channels = 3\n",
    "        for layer in self.architecture:\n",
    "            output_channels = layer\n",
    "            if layer == 'P':\n",
    "                self.layers.append(nn.MaxPool2d(2,2))\n",
    "                \n",
    "            else:\n",
    "                self.layers.append(nn.Conv2d(input_channels, output_channels, 3, 1, 1))\n",
    "                self.layers.append(nn.BatchNorm2d(output_channels))\n",
    "                self.layers.append(nn.ReLU(inplace=True))    \n",
    "                input_channels = output_channels\n",
    "        \n",
    "        self.conv_layers = nn.Sequential(*self.layers)\n",
    "        self.fc1 = nn.Linear(512, 512)\n",
    "        self.fc2 = nn.Linear(512, 512)\n",
    "        self.fc3 = nn.Linear(512, 10)\n",
    "        \n",
    "        #if initialization == 'Xavier':\n",
    "        #    nn.init.xavier_uniform(self.conv1.weight)\n",
    "        #    nn.init.xavier_uniform(self.conv2.weight)\n",
    "\n",
    "\n",
    "    def forward(self, x):\n",
    "        x = self.conv_layers(x)\n",
    "        x = x.view(x.size(0), -1)\n",
    "        x = self.fc1(x)\n",
    "        x = self.fc2(x)\n",
    "        x = self.fc3(x)\n",
    "        return x\n",
    "    \n",
    "class VGGshallow_3FC_deep(nn.Module):\n",
    "    def __init__(self):\n",
    "        super(VGGshallow_3FC_deep, self).__init__()\n",
    "        self.architecture = [64, 64, 'P', 128, 128, 'P', 256, 256, 'P', 512, 512, 'P', 1024, 1024, 'P']\n",
    "        self.layers = []\n",
    "        \n",
    "        input_channels = 3\n",
    "        for layer in self.architecture:\n",
    "            output_channels = layer\n",
    "            if layer == 'P':\n",
    "                self.layers.append(nn.MaxPool2d(2,2))\n",
    "                \n",
    "            else:\n",
    "                self.layers.append(nn.Conv2d(input_channels, output_channels, 3, 1, 1))\n",
    "                self.layers.append(nn.BatchNorm2d(output_channels))\n",
    "                self.layers.append(nn.ReLU(inplace=True))    \n",
    "                input_channels = output_channels\n",
    "        \n",
    "        self.conv_layers = nn.Sequential(*self.layers)\n",
    "        self.fc1 = nn.Linear(1024, 512)\n",
    "        self.fc2 = nn.Linear(512, 512)\n",
    "        self.fc3 = nn.Linear(512, 10)\n",
    "        \n",
    "        #if initialization == 'Xavier':\n",
    "        #    nn.init.xavier_uniform(self.conv1.weight)\n",
    "        #    nn.init.xavier_uniform(self.conv2.weight)\n",
    "\n",
    "\n",
    "    def forward(self, x):\n",
    "        x = self.conv_layers(x)\n",
    "        x = x.view(x.size(0), -1)\n",
    "        x = self.fc1(x)\n",
    "        x = self.fc2(x)\n",
    "        x = self.fc3(x)\n",
    "        return x\n",
    "\n",
    "    \n",
    "\n",
    "if currentNetwork == 'exampleNet':\n",
    "    net = Net_tutorial(initialization = initialization)\n",
    "\n",
    "if currentNetwork == 'FC2_2':\n",
    "    net = FC2_2(initialization = initialization)\n",
    "    \n",
    "if currentNetwork == 'VGGshallow':\n",
    "    net = VGGshallow()\n",
    "\n",
    "if currentNetwork == 'VGGshallow_1FC':\n",
    "    net = VGGshallow_1FC()    \n",
    "\n",
    "if currentNetwork == 'VGGshallow_3FC':\n",
    "    net = VGGshallow_3FC()\n",
    "    \n",
    "if currentNetwork == 'VGGshallow_3FC_deep':\n",
    "    net = VGGshallow_3FC_deep() \n",
    "\n",
    "if useGPU:\n",
    "    net = net.cuda() #moves to gpu\n",
    "    #net = torch.nn.DataParallel(net, device_ids=range(torch.cuda.device_count())) #just added, might not work\n",
    "    cudnn.benchmark = True\n",
    "    \n",
    "print(currentNetwork)"
   ]
  },
  {
   "cell_type": "code",
   "execution_count": 13,
   "metadata": {},
   "outputs": [
    {
     "data": {
      "text/plain": [
       "'\\nArgs:\\n        params (iterable): iterable of parameters to optimize or dicts defining\\n            parameter groups\\n        lr (float): learning rate\\n        momentum (float, optional): momentum factor (default: 0)\\n        weight_decay (float, optional): weight decay (L2 penalty) (default: 0)\\n        dampening (float, optional): dampening for momentum (default: 0)\\n        nesterov (bool, optional): enables Nesterov momentum (default: False)\\n'"
      ]
     },
     "execution_count": 13,
     "metadata": {},
     "output_type": "execute_result"
    }
   ],
   "source": [
    "import torch.optim as optim\n",
    "\n",
    "criterion = nn.CrossEntropyLoss()\n",
    "if myOptomizer == 'SGD':\n",
    "    optimizer = optim.SGD(net.parameters(), lr=learning_rate, momentum=0.9)\n",
    "    scheduler = torch.optim.lr_scheduler.MultiStepLR(optimizer, milestones=[20, 50], gamma=0.1)\n",
    "\n",
    "else:\n",
    "    if myOptomizer == 'Adam':\n",
    "        optimizer = torch.optim.Adam(net.parameters(), lr = learning_rate)\n",
    "\n",
    "\n",
    "'''\n",
    "Args:\n",
    "        params (iterable): iterable of parameters to optimize or dicts defining\n",
    "            parameter groups\n",
    "        lr (float): learning rate\n",
    "        momentum (float, optional): momentum factor (default: 0)\n",
    "        weight_decay (float, optional): weight decay (L2 penalty) (default: 0)\n",
    "        dampening (float, optional): dampening for momentum (default: 0)\n",
    "        nesterov (bool, optional): enables Nesterov momentum (default: False)\n",
    "'''"
   ]
  },
  {
   "cell_type": "markdown",
   "metadata": {},
   "source": [
    "Note:\n",
    "torch variable is wrapper which of tensor + gradient\n",
    "torch tensor is an array / matrix"
   ]
  },
  {
   "cell_type": "code",
   "execution_count": 14,
   "metadata": {},
   "outputs": [],
   "source": [
    "def predict(net, data_loader, num_class, batch_size):\n",
    "    correct = 0#torch.Tensor(num_class).zero_()\n",
    "\n",
    "    #print(labels.numpy().shape)\n",
    "    for data in data_loader:\n",
    "            inputs, labels = data\n",
    "            inputs = Variable(inputs.type(dtype))\n",
    "            output = net(inputs)\n",
    "            _, predicted = torch.max(output.data, 1) #finds max index\n",
    "            correct = (predicted.cpu().numpy() == labels.numpy()).squeeze() #labels is max index, not one-hot\n",
    "\n",
    "\n",
    "    accuracy = np.average(correct)\n",
    "    #print(accuracy)\n",
    "    #print(num_class)\n",
    "    return correct, num_class, accuracy\n",
    "\n",
    "#correct, num_class, accuracy = predict(net, data_loader, num_class, batch_size)\n",
    "#print(accuracy)\n",
    "\n",
    "\n",
    "def predict(net, data_loader, num_class, batch_size):\n",
    "    correct = 0#torch.Tensor(num_class).zero_()\n",
    "\n",
    "    #print(labels.numpy().shape)\n",
    "    for data in data_loader:\n",
    "            inputs, labels = data\n",
    "            inputs = Variable(inputs.type(dtype))\n",
    "            output = net(inputs)\n",
    "            _, predicted = torch.max(output.data, 1) #finds max index\n",
    "            correct = (predicted.cpu().numpy() == labels.numpy()).squeeze() #labels is max index, not one-hot\n",
    "\n",
    "\n",
    "    accuracy = np.average(correct)\n",
    "    #print(accuracy)\n",
    "    #print(num_class)\n",
    "    return correct, num_class, accuracy\n",
    "\n",
    "#correct, num_class, accuracy = predict(net, data_loader, num_class, batch_size)\n",
    "#print(accuracy)"
   ]
  },
  {
   "cell_type": "code",
   "execution_count": 15,
   "metadata": {},
   "outputs": [
    {
     "name": "stdout",
     "output_type": "stream",
     "text": [
      "Net_tutorial(\n",
      "  (conv1): Conv2d (3, 6, kernel_size=(5, 5), stride=(1, 1))\n",
      "  (conv1_bn): BatchNorm2d(6, eps=1e-05, momentum=0.1, affine=True)\n",
      "  (pool): MaxPool2d(kernel_size=(2, 2), stride=(2, 2), dilation=(1, 1))\n",
      "  (conv2): Conv2d (6, 16, kernel_size=(5, 5), stride=(1, 1))\n",
      "  (conv2_bn): BatchNorm2d(16, eps=1e-05, momentum=0.1, affine=True)\n",
      "  (fc1): Linear(in_features=400, out_features=120)\n",
      "  (fc1_bn): BatchNorm1d(120, eps=1e-05, momentum=0.1, affine=True)\n",
      "  (fc2): Linear(in_features=120, out_features=84)\n",
      "  (fc2_bn): BatchNorm1d(84, eps=1e-05, momentum=0.1, affine=True)\n",
      "  (fc3): Linear(in_features=84, out_features=10)\n",
      ")\n"
     ]
    }
   ],
   "source": [
    "print(net)"
   ]
  },
  {
   "cell_type": "code",
   "execution_count": 16,
   "metadata": {},
   "outputs": [
    {
     "name": "stderr",
     "output_type": "stream",
     "text": [
      "  2%|▏         | 1/60 [00:04<04:09,  4.23s/it]"
     ]
    },
    {
     "name": "stdout",
     "output_type": "stream",
     "text": [
      "Epoch loss = 1.760991571142393\n"
     ]
    },
    {
     "name": "stderr",
     "output_type": "stream",
     "text": [
      "  3%|▎         | 2/60 [00:08<04:05,  4.23s/it]"
     ]
    },
    {
     "name": "stdout",
     "output_type": "stream",
     "text": [
      "Epoch loss = 1.4752736753400635\n"
     ]
    },
    {
     "name": "stderr",
     "output_type": "stream",
     "text": [
      "  5%|▌         | 3/60 [00:12<04:02,  4.25s/it]"
     ]
    },
    {
     "name": "stdout",
     "output_type": "stream",
     "text": [
      "Epoch loss = 1.3606978567207562\n"
     ]
    },
    {
     "name": "stderr",
     "output_type": "stream",
     "text": [
      "  7%|▋         | 4/60 [00:17<03:59,  4.28s/it]"
     ]
    },
    {
     "name": "stdout",
     "output_type": "stream",
     "text": [
      "Epoch loss = 1.2910230860990637\n"
     ]
    },
    {
     "name": "stderr",
     "output_type": "stream",
     "text": [
      "  8%|▊         | 5/60 [00:21<03:54,  4.26s/it]"
     ]
    },
    {
     "name": "stdout",
     "output_type": "stream",
     "text": [
      "Epoch loss = 1.2494999247000498\n"
     ]
    },
    {
     "name": "stderr",
     "output_type": "stream",
     "text": [
      " 10%|█         | 6/60 [00:25<03:50,  4.26s/it]"
     ]
    },
    {
     "name": "stdout",
     "output_type": "stream",
     "text": [
      "Epoch loss = 1.2020255469662302\n"
     ]
    },
    {
     "name": "stderr",
     "output_type": "stream",
     "text": [
      " 12%|█▏        | 7/60 [00:29<03:45,  4.26s/it]"
     ]
    },
    {
     "name": "stdout",
     "output_type": "stream",
     "text": [
      "Epoch loss = 1.187469944357872\n"
     ]
    },
    {
     "name": "stderr",
     "output_type": "stream",
     "text": [
      " 13%|█▎        | 8/60 [00:34<03:41,  4.26s/it]"
     ]
    },
    {
     "name": "stdout",
     "output_type": "stream",
     "text": [
      "Epoch loss = 1.1580117820378613\n"
     ]
    },
    {
     "name": "stderr",
     "output_type": "stream",
     "text": [
      " 15%|█▌        | 9/60 [00:38<03:37,  4.27s/it]"
     ]
    },
    {
     "name": "stdout",
     "output_type": "stream",
     "text": [
      "Epoch loss = 1.134742252090398\n"
     ]
    },
    {
     "name": "stderr",
     "output_type": "stream",
     "text": [
      " 17%|█▋        | 10/60 [00:42<03:33,  4.27s/it]"
     ]
    },
    {
     "name": "stdout",
     "output_type": "stream",
     "text": [
      "Epoch loss = 1.1185871564290102\n"
     ]
    },
    {
     "name": "stderr",
     "output_type": "stream",
     "text": [
      " 18%|█▊        | 11/60 [00:47<03:29,  4.27s/it]"
     ]
    },
    {
     "name": "stdout",
     "output_type": "stream",
     "text": [
      "Epoch loss = 1.095918648164062\n"
     ]
    },
    {
     "name": "stderr",
     "output_type": "stream",
     "text": [
      " 20%|██        | 12/60 [00:51<03:25,  4.27s/it]"
     ]
    },
    {
     "name": "stdout",
     "output_type": "stream",
     "text": [
      "Epoch loss = 1.080763760735007\n"
     ]
    },
    {
     "name": "stderr",
     "output_type": "stream",
     "text": [
      " 22%|██▏       | 13/60 [00:55<03:20,  4.27s/it]"
     ]
    },
    {
     "name": "stdout",
     "output_type": "stream",
     "text": [
      "Epoch loss = 1.070441917023238\n"
     ]
    },
    {
     "name": "stderr",
     "output_type": "stream",
     "text": [
      " 23%|██▎       | 14/60 [00:59<03:16,  4.27s/it]"
     ]
    },
    {
     "name": "stdout",
     "output_type": "stream",
     "text": [
      "Epoch loss = 1.055075649610337\n"
     ]
    },
    {
     "name": "stderr",
     "output_type": "stream",
     "text": [
      " 25%|██▌       | 15/60 [01:04<03:12,  4.27s/it]"
     ]
    },
    {
     "name": "stdout",
     "output_type": "stream",
     "text": [
      "Epoch loss = 1.0414496651467156\n"
     ]
    },
    {
     "name": "stderr",
     "output_type": "stream",
     "text": [
      " 27%|██▋       | 16/60 [01:08<03:08,  4.27s/it]"
     ]
    },
    {
     "name": "stdout",
     "output_type": "stream",
     "text": [
      "Epoch loss = 1.03316271896748\n"
     ]
    },
    {
     "name": "stderr",
     "output_type": "stream",
     "text": [
      " 28%|██▊       | 17/60 [01:12<03:03,  4.27s/it]"
     ]
    },
    {
     "name": "stdout",
     "output_type": "stream",
     "text": [
      "Epoch loss = 1.0251600952709423\n"
     ]
    },
    {
     "name": "stderr",
     "output_type": "stream",
     "text": [
      " 30%|███       | 18/60 [01:16<02:59,  4.27s/it]"
     ]
    },
    {
     "name": "stdout",
     "output_type": "stream",
     "text": [
      "Epoch loss = 1.019072222578175\n"
     ]
    },
    {
     "name": "stderr",
     "output_type": "stream",
     "text": [
      " 32%|███▏      | 19/60 [01:21<02:55,  4.28s/it]"
     ]
    },
    {
     "name": "stdout",
     "output_type": "stream",
     "text": [
      "Epoch loss = 0.9966460729346556\n"
     ]
    },
    {
     "name": "stderr",
     "output_type": "stream",
     "text": [
      " 33%|███▎      | 20/60 [01:25<02:50,  4.27s/it]"
     ]
    },
    {
     "name": "stdout",
     "output_type": "stream",
     "text": [
      "Epoch loss = 0.995239385348909\n"
     ]
    },
    {
     "name": "stderr",
     "output_type": "stream",
     "text": [
      " 35%|███▌      | 21/60 [01:29<02:46,  4.27s/it]"
     ]
    },
    {
     "name": "stdout",
     "output_type": "stream",
     "text": [
      "Epoch loss = 0.9985879105241859\n"
     ]
    },
    {
     "name": "stderr",
     "output_type": "stream",
     "text": [
      " 37%|███▋      | 22/60 [01:33<02:42,  4.27s/it]"
     ]
    },
    {
     "name": "stdout",
     "output_type": "stream",
     "text": [
      "Epoch loss = 0.9811902861384785\n"
     ]
    },
    {
     "name": "stderr",
     "output_type": "stream",
     "text": [
      " 38%|███▊      | 23/60 [01:38<02:37,  4.27s/it]"
     ]
    },
    {
     "name": "stdout",
     "output_type": "stream",
     "text": [
      "Epoch loss = 0.9744991513297838\n"
     ]
    },
    {
     "name": "stderr",
     "output_type": "stream",
     "text": [
      " 40%|████      | 24/60 [01:42<02:33,  4.27s/it]"
     ]
    },
    {
     "name": "stdout",
     "output_type": "stream",
     "text": [
      "Epoch loss = 0.9643838504219756\n"
     ]
    },
    {
     "name": "stderr",
     "output_type": "stream",
     "text": [
      " 42%|████▏     | 25/60 [01:46<02:29,  4.27s/it]"
     ]
    },
    {
     "name": "stdout",
     "output_type": "stream",
     "text": [
      "Epoch loss = 0.9570253997602883\n"
     ]
    },
    {
     "name": "stderr",
     "output_type": "stream",
     "text": [
      " 43%|████▎     | 26/60 [01:50<02:25,  4.27s/it]"
     ]
    },
    {
     "name": "stdout",
     "output_type": "stream",
     "text": [
      "Epoch loss = 0.9548074077157414\n"
     ]
    },
    {
     "name": "stderr",
     "output_type": "stream",
     "text": [
      " 45%|████▌     | 27/60 [01:55<02:20,  4.27s/it]"
     ]
    },
    {
     "name": "stdout",
     "output_type": "stream",
     "text": [
      "Epoch loss = 0.9540012888610363\n"
     ]
    },
    {
     "name": "stderr",
     "output_type": "stream",
     "text": [
      " 47%|████▋     | 28/60 [01:59<02:16,  4.26s/it]"
     ]
    },
    {
     "name": "stdout",
     "output_type": "stream",
     "text": [
      "Epoch loss = 0.9442425931201262\n"
     ]
    },
    {
     "name": "stderr",
     "output_type": "stream",
     "text": [
      " 48%|████▊     | 29/60 [02:03<02:12,  4.27s/it]"
     ]
    },
    {
     "name": "stdout",
     "output_type": "stream",
     "text": [
      "Epoch loss = 0.9317203538821024\n"
     ]
    },
    {
     "name": "stderr",
     "output_type": "stream",
     "text": [
      " 50%|█████     | 30/60 [02:07<02:07,  4.27s/it]"
     ]
    },
    {
     "name": "stdout",
     "output_type": "stream",
     "text": [
      "Epoch loss = 0.9386054134982473\n"
     ]
    },
    {
     "name": "stderr",
     "output_type": "stream",
     "text": [
      " 52%|█████▏    | 31/60 [02:12<02:03,  4.27s/it]"
     ]
    },
    {
     "name": "stdout",
     "output_type": "stream",
     "text": [
      "Epoch loss = 0.9259549326756421\n"
     ]
    },
    {
     "name": "stderr",
     "output_type": "stream",
     "text": [
      " 53%|█████▎    | 32/60 [02:16<01:59,  4.27s/it]"
     ]
    },
    {
     "name": "stdout",
     "output_type": "stream",
     "text": [
      "Epoch loss = 0.9273008379866096\n"
     ]
    },
    {
     "name": "stderr",
     "output_type": "stream",
     "text": [
      " 55%|█████▌    | 33/60 [02:20<01:55,  4.26s/it]"
     ]
    },
    {
     "name": "stdout",
     "output_type": "stream",
     "text": [
      "Epoch loss = 0.9204420655527535\n"
     ]
    },
    {
     "name": "stderr",
     "output_type": "stream",
     "text": [
      " 57%|█████▋    | 34/60 [02:24<01:50,  4.26s/it]"
     ]
    },
    {
     "name": "stdout",
     "output_type": "stream",
     "text": [
      "Epoch loss = 0.9148063883185387\n"
     ]
    },
    {
     "name": "stderr",
     "output_type": "stream",
     "text": [
      " 58%|█████▊    | 35/60 [02:29<01:46,  4.26s/it]"
     ]
    },
    {
     "name": "stdout",
     "output_type": "stream",
     "text": [
      "Epoch loss = 0.9202275409856263\n"
     ]
    },
    {
     "name": "stderr",
     "output_type": "stream",
     "text": [
      " 60%|██████    | 36/60 [02:33<01:42,  4.26s/it]"
     ]
    },
    {
     "name": "stdout",
     "output_type": "stream",
     "text": [
      "Epoch loss = 0.9097995328552583\n"
     ]
    },
    {
     "name": "stderr",
     "output_type": "stream",
     "text": [
      " 62%|██████▏   | 37/60 [02:37<01:38,  4.26s/it]"
     ]
    },
    {
     "name": "stdout",
     "output_type": "stream",
     "text": [
      "Epoch loss = 0.9082751666360042\n"
     ]
    },
    {
     "name": "stderr",
     "output_type": "stream",
     "text": [
      " 63%|██████▎   | 38/60 [02:41<01:33,  4.26s/it]"
     ]
    },
    {
     "name": "stdout",
     "output_type": "stream",
     "text": [
      "Epoch loss = 0.9062298762009424\n"
     ]
    },
    {
     "name": "stderr",
     "output_type": "stream",
     "text": [
      " 65%|██████▌   | 39/60 [02:46<01:29,  4.26s/it]"
     ]
    },
    {
     "name": "stdout",
     "output_type": "stream",
     "text": [
      "Epoch loss = 0.8969038477277055\n"
     ]
    },
    {
     "name": "stderr",
     "output_type": "stream",
     "text": [
      " 67%|██████▋   | 40/60 [02:50<01:25,  4.26s/it]"
     ]
    },
    {
     "name": "stdout",
     "output_type": "stream",
     "text": [
      "Epoch loss = 0.9003815241158009\n"
     ]
    },
    {
     "name": "stderr",
     "output_type": "stream",
     "text": [
      " 68%|██████▊   | 41/60 [02:54<01:20,  4.26s/it]"
     ]
    },
    {
     "name": "stdout",
     "output_type": "stream",
     "text": [
      "Epoch loss = 0.8923243821105536\n"
     ]
    },
    {
     "name": "stderr",
     "output_type": "stream",
     "text": [
      " 70%|███████   | 42/60 [02:58<01:16,  4.26s/it]"
     ]
    },
    {
     "name": "stdout",
     "output_type": "stream",
     "text": [
      "Epoch loss = 0.8889233079903266\n"
     ]
    },
    {
     "name": "stderr",
     "output_type": "stream",
     "text": [
      " 72%|███████▏  | 43/60 [03:03<01:12,  4.26s/it]"
     ]
    },
    {
     "name": "stdout",
     "output_type": "stream",
     "text": [
      "Epoch loss = 0.8918709768091931\n"
     ]
    },
    {
     "name": "stderr",
     "output_type": "stream",
     "text": [
      " 73%|███████▎  | 44/60 [03:07<01:08,  4.26s/it]"
     ]
    },
    {
     "name": "stdout",
     "output_type": "stream",
     "text": [
      "Epoch loss = 0.8849323378766284\n"
     ]
    },
    {
     "name": "stderr",
     "output_type": "stream",
     "text": [
      " 75%|███████▌  | 45/60 [03:11<01:03,  4.25s/it]"
     ]
    },
    {
     "name": "stdout",
     "output_type": "stream",
     "text": [
      "Epoch loss = 0.8784921701778384\n"
     ]
    },
    {
     "name": "stderr",
     "output_type": "stream",
     "text": [
      " 77%|███████▋  | 46/60 [03:15<00:59,  4.25s/it]"
     ]
    },
    {
     "name": "stdout",
     "output_type": "stream",
     "text": [
      "Epoch loss = 0.8793053646736285\n"
     ]
    },
    {
     "name": "stderr",
     "output_type": "stream",
     "text": [
      " 78%|███████▊  | 47/60 [03:19<00:55,  4.25s/it]"
     ]
    },
    {
     "name": "stdout",
     "output_type": "stream",
     "text": [
      "Epoch loss = 0.8776830375632819\n"
     ]
    },
    {
     "name": "stderr",
     "output_type": "stream",
     "text": [
      " 80%|████████  | 48/60 [03:24<00:51,  4.25s/it]"
     ]
    },
    {
     "name": "stdout",
     "output_type": "stream",
     "text": [
      "Epoch loss = 0.8705094134544625\n"
     ]
    },
    {
     "name": "stderr",
     "output_type": "stream",
     "text": [
      " 82%|████████▏ | 49/60 [03:28<00:46,  4.25s/it]"
     ]
    },
    {
     "name": "stdout",
     "output_type": "stream",
     "text": [
      "Epoch loss = 0.874261870761128\n"
     ]
    },
    {
     "name": "stderr",
     "output_type": "stream",
     "text": [
      " 83%|████████▎ | 50/60 [03:32<00:42,  4.25s/it]"
     ]
    },
    {
     "name": "stdout",
     "output_type": "stream",
     "text": [
      "Epoch loss = 0.8622106664321002\n"
     ]
    },
    {
     "name": "stderr",
     "output_type": "stream",
     "text": [
      " 85%|████████▌ | 51/60 [03:36<00:38,  4.25s/it]"
     ]
    },
    {
     "name": "stdout",
     "output_type": "stream",
     "text": [
      "Epoch loss = 0.8580557554960251\n"
     ]
    },
    {
     "name": "stderr",
     "output_type": "stream",
     "text": [
      " 87%|████████▋ | 52/60 [03:41<00:34,  4.25s/it]"
     ]
    },
    {
     "name": "stdout",
     "output_type": "stream",
     "text": [
      "Epoch loss = 0.8593839396010426\n"
     ]
    },
    {
     "name": "stderr",
     "output_type": "stream",
     "text": [
      " 88%|████████▊ | 53/60 [03:45<00:29,  4.25s/it]"
     ]
    },
    {
     "name": "stdout",
     "output_type": "stream",
     "text": [
      "Epoch loss = 0.8631643532391857\n"
     ]
    },
    {
     "name": "stderr",
     "output_type": "stream",
     "text": [
      " 90%|█████████ | 54/60 [03:49<00:25,  4.25s/it]"
     ]
    },
    {
     "name": "stdout",
     "output_type": "stream",
     "text": [
      "Epoch loss = 0.8496732575928464\n"
     ]
    },
    {
     "name": "stderr",
     "output_type": "stream",
     "text": [
      " 92%|█████████▏| 55/60 [03:53<00:21,  4.25s/it]"
     ]
    },
    {
     "name": "stdout",
     "output_type": "stream",
     "text": [
      "Epoch loss = 0.854906418305986\n"
     ]
    },
    {
     "name": "stderr",
     "output_type": "stream",
     "text": [
      " 93%|█████████▎| 56/60 [03:58<00:17,  4.25s/it]"
     ]
    },
    {
     "name": "stdout",
     "output_type": "stream",
     "text": [
      "Epoch loss = 0.8512868651134127\n"
     ]
    },
    {
     "name": "stderr",
     "output_type": "stream",
     "text": [
      " 95%|█████████▌| 57/60 [04:02<00:12,  4.25s/it]"
     ]
    },
    {
     "name": "stdout",
     "output_type": "stream",
     "text": [
      "Epoch loss = 0.8491620995542583\n"
     ]
    },
    {
     "name": "stderr",
     "output_type": "stream",
     "text": [
      " 97%|█████████▋| 58/60 [04:06<00:08,  4.25s/it]"
     ]
    },
    {
     "name": "stdout",
     "output_type": "stream",
     "text": [
      "Epoch loss = 0.844440477735856\n"
     ]
    },
    {
     "name": "stderr",
     "output_type": "stream",
     "text": [
      " 98%|█████████▊| 59/60 [04:10<00:04,  4.25s/it]"
     ]
    },
    {
     "name": "stdout",
     "output_type": "stream",
     "text": [
      "Epoch loss = 0.8449112678713658\n"
     ]
    },
    {
     "name": "stderr",
     "output_type": "stream",
     "text": [
      "100%|██████████| 60/60 [04:14<00:00,  4.25s/it]"
     ]
    },
    {
     "name": "stdout",
     "output_type": "stream",
     "text": [
      "Epoch loss = 0.8426812326206881\n",
      "Finished Training\n"
     ]
    },
    {
     "name": "stderr",
     "output_type": "stream",
     "text": [
      "\n"
     ]
    }
   ],
   "source": [
    "acc_epochs = torch.Tensor(3, num_epochs).zero_()\n",
    "\n",
    "for epoch in tqdm(range(num_epochs)):  #epoch is full dataset, tqdm does progress bar\n",
    "    epoch_loss = 0\n",
    "    \n",
    "    for i, data in enumerate(train_loader, 0):\n",
    "        # grab a batch\n",
    "        inputs, labels = data\n",
    "\n",
    "        #convert to cuda w/ gradient\n",
    "        inputs = Variable(inputs.type(dtype))\n",
    "        labels = Variable(labels.type(dtype2))\n",
    "        \n",
    "        #reset gradient for epoch\n",
    "        optimizer.zero_grad()\n",
    "\n",
    "        #forward/backward/update\n",
    "        outputs = net(inputs)\n",
    "        loss = criterion(outputs, labels)\n",
    "        loss.backward()\n",
    "        optimizer.step()\n",
    "\n",
    "        epoch_loss += loss.data[0]\n",
    "        \n",
    "    #record train, validation, test accuracy:\n",
    "    _, _, acc_epochs[0][epoch] = predict(net, train_loader, num_classes, batch_size)\n",
    "    _, _, acc_epochs[1][epoch] = predict(net, val_loader, num_classes, batch_size_predict)\n",
    "    _, _, acc_epochs[2][epoch] = predict(net, test_loader, num_classes, batch_size_predict)\n",
    "    \n",
    "    tqdm.write(\"Epoch loss = {}\".format(epoch_loss / i))\n",
    "    scheduler.step()\n",
    "\n",
    "print('Finished Training')"
   ]
  },
  {
   "cell_type": "code",
   "execution_count": 18,
   "metadata": {
    "scrolled": true
   },
   "outputs": [
    {
     "name": "stdout",
     "output_type": "stream",
     "text": [
      "0.765625, 0.6796875, 0.671875\n",
      "0.671875\n"
     ]
    },
    {
     "data": {
      "image/png": "[encoded data removed]",
      "text/plain": [
       "<matplotlib.figure.Figure at 0x7fb5d943b358>"
      ]
     },
     "metadata": {},
     "output_type": "display_data"
    }
   ],
   "source": [
    "_, _, TRAIN = predict(net, train_loader, num_classes, batch_size)\n",
    "_, _, VAL = predict(net, val_loader, num_classes, batch_size_predict)\n",
    "_, _, TEST = predict(net, test_loader, num_classes, batch_size_predict)\n",
    "\n",
    "print(\"{}, {}, {}\".format(TRAIN, VAL, TEST))\n",
    "\n",
    "\n",
    "plt.plot(acc_epochs[0].numpy())\n",
    "plt.plot(acc_epochs[1].numpy())\n",
    "plt.plot(acc_epochs[2].numpy())\n",
    "plt.legend(['Training', 'Validation', 'Testing'])\n",
    "plt.xlabel('Epochs')\n",
    "plt.ylabel('Accuracy')\n",
    "\n",
    "string = 'no BN'\n",
    "if batchNormalization:\n",
    "    string = 'BN'\n",
    "plt.title('{}, {}, {}, {}'.format(currentNetwork, myOptomizer, initialization, string))\n",
    "\n",
    "print(acc_epochs[2].numpy()[-1])\n"
   ]
  },
  {
   "cell_type": "markdown",
   "metadata": {},
   "source": [
    "# Nice plotting example\n",
    "\n",
    "from PyTorch tutorial"
   ]
  },
  {
   "cell_type": "code",
   "execution_count": 30,
   "metadata": {},
   "outputs": [
    {
     "name": "stdout",
     "output_type": "stream",
     "text": [
      "GroundTruth:    cat  ship  ship plane\n"
     ]
    },
    {
     "data": {
      "image/png": "[encoded data removed]",
      "text/plain": [
       "<matplotlib.figure.Figure at 0x7f7d85670588>"
      ]
     },
     "metadata": {},
     "output_type": "display_data"
    }
   ],
   "source": [
    "dataiter = iter(test_loader)\n",
    "images, labels = dataiter.next()\n",
    "\n",
    "# print images\n",
    "imshow(torchvision.utils.make_grid(images))\n",
    "print('GroundTruth: ', ' '.join('%5s' % classes[labels[j]] for j in range(4)))"
   ]
  },
  {
   "cell_type": "code",
   "execution_count": null,
   "metadata": {
    "collapsed": true
   },
   "outputs": [],
   "source": []
  },
  {
   "cell_type": "code",
   "execution_count": null,
   "metadata": {
    "collapsed": true
   },
   "outputs": [],
   "source": []
  }
 ],
 "metadata": {
  "anaconda-cloud": {},
  "kernelspec": {
   "display_name": "Python 3",
   "language": "python",
   "name": "python3"
  },
  "language_info": {
   "codemirror_mode": {
    "name": "ipython",
    "version": 3
   },
   "file_extension": ".py",
   "mimetype": "text/x-python",
   "name": "python",
   "nbconvert_exporter": "python",
   "pygments_lexer": "ipython3",
   "version": "3.5.2"
  }
 },
 "nbformat": 4,
 "nbformat_minor": 2
}
